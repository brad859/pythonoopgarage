{
 "cells": [
  {
   "cell_type": "markdown",
   "metadata": {},
   "source": [
    "# Parking Garage Project\n",
    "\n",
    "Your assignment for today is to create a parking garage class to get more familiar with Object Oriented Programming(OOP). \n",
    "\n",
    "Your parking gargage class should have the following methods:\n",
    "- takeTicket\n",
    "   - This should decrease the amount of tickets available by 1\n",
    "   - This should decrease the amount of parkingSpaces available by 1\n",
    "- payForParking\n",
    "   - Display an input that waits for an amount from the user and store it in a variable\n",
    "   - If the payment variable is not empty then ->  display a message to the user that their ticket has been paid and they have 15mins to leave\n",
    "   - This should update the \"currentTicket\" dictionary key \"paid\" to True\n",
    "-leaveGarage\n",
    "   - If the ticket has been paid, display a message of \"Thank You, have a nice day\"\n",
    "   - If the ticket has not been paid, display an input prompt for payment\n",
    "      - Once paid, display message \"Thank you, have a nice day!\"\n",
    "   - Update parkingSpaces list to increase by 1\n",
    "   - Update tickets list to increase by 1\n",
    "\n",
    "You will need a few attributes as well:\n",
    "- tickets -> list\n",
    "- parkingSpaces -> list\n",
    "- currentTicket -> dictionary"
   ]
  },
  {
   "cell_type": "code",
   "execution_count": 1,
   "metadata": {},
   "outputs": [
    {
     "name": "stdout",
     "output_type": "stream",
     "text": [
      "Invalid payment amount. Please insert $5 to take a parking ticket.\n",
      "That is not a valid request. Enter 'yes' to take ticket. Enter 'no to cancel request.\n",
      "Please take your ticket.\n",
      "\n",
      "Your remaining ticket count is: 19\n",
      "Your remaining parking spot count is: 19\n",
      "Please exit garage, have a nice day. See machine for other options.\n"
     ]
    }
   ],
   "source": [
    "class ParkingGarage():\n",
    "    def __init__(self, tickets=list[1, 2, 3, 4, 5, 6, 7, 8, 9, 10, 11, 12, 13, 14, 15, 16, 17, 18, 19, 20], parkingspaces=list[1, 2, 3, 4, 5, 6, 7, 8, 9, 10, 11, 12, 13, 14, 15, 16, 17, 18, 19, 201, 2, 3, 4, 5, 6, 7, 8, 9, 10, 11, 12, 13, 14, 15, 16, 17, 18, 19, 20]):\n",
    "        self.tickets = [1, 2, 3, 4, 5, 6, 7, 8, 9, 10, 11, 12, 13, 14, 15, 16, 17, 18, 19, 20]\n",
    "        self.parkingspaces = [1, 2, 3, 4, 5, 6, 7, 8, 9, 10, 11, 12, 13, 14, 15, 16, 17, 18, 19, 20]\n",
    "\n",
    "    def takeTicket(self):\n",
    "        payment = float(input(\"Please insert $5 to take a parking ticket: \"))\n",
    "        if payment == 5:\n",
    "            print(\"Please take your ticket.\\n\")\n",
    "            self.tickets.pop(0)  \n",
    "            self.parkingspaces.pop(0)  \n",
    "            print(f'Your remaining ticket count is: {len(self.tickets)}')\n",
    "            print(f'Your remaining parking spot count is: {len(self.parkingspaces)}')\n",
    "        else:\n",
    "            print(\"Invalid payment amount. Please insert $5 to take a parking ticket.\")\n",
    "\n",
    "    def PayForParking(self):\n",
    "        print('Your ticket has been paid. You have 15 minutes to exit the parking garage.')\n",
    "        print('Thank you. Have a nice day!')\n",
    "        self.tickets.append(1)\n",
    "        self.parkingspaces.append(1)\n",
    "\n",
    "\n",
    "Dallaspk = ParkingGarage()\n",
    "\n",
    "\n",
    "def run():\n",
    "    while True:\n",
    "        response = input(\"Hello! Enter 'yes' to take ticket. Enter 'no' to cancel request and see other options.\")\n",
    "        if response.lower() == 'no':\n",
    "            print('Please exit garage, have a nice day. See machine for other options.')\n",
    "            break\n",
    "        elif response.lower() == 'yes':\n",
    "            Dallaspk.takeTicket()\n",
    "        elif response.lower() == 'pay now':\n",
    "            Dallaspk.PayForParking()\n",
    "        else:\n",
    "            print(\"That is not a valid request. Enter 'yes' to take ticket. Enter 'no to cancel request.\")\n",
    "\n",
    "\n",
    "run()"
   ]
  }
 ],
 "metadata": {
  "kernelspec": {
   "display_name": "Python 3",
   "language": "python",
   "name": "python3"
  },
  "language_info": {
   "codemirror_mode": {
    "name": "ipython",
    "version": 3
   },
   "file_extension": ".py",
   "mimetype": "text/x-python",
   "name": "python",
   "nbconvert_exporter": "python",
   "pygments_lexer": "ipython3",
   "version": "3.10.11"
  }
 },
 "nbformat": 4,
 "nbformat_minor": 2
}
